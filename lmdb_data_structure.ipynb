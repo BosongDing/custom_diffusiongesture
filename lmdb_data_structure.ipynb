{
 "cells": [
  {
   "cell_type": "code",
   "execution_count": null,
   "metadata": {},
   "outputs": [],
   "source": [
    "import os\n",
    "import numpy as np\n",
    "\n",
    "def compute_mean_direction_vector(data_dir):\n",
    "    \"\"\"Compute the mean direction vector from all NPZ files in the directory\"\"\"\n",
    "    npz_files = [f for f in os.listdir(data_dir) if f.endswith('_direction_vectors.npz')]\n",
    "    print(f\"Computing mean from {len(npz_files)} files\")\n",
    "    \n",
    "    # Create a list to store all direction vectors\n",
    "    all_vectors = []\n",
    "    \n",
    "    for npz_file in npz_files:\n",
    "        npz_path = os.path.join(data_dir, npz_file)\n",
    "        data = np.load(npz_path)\n",
    "        dir_vectors = data['direction_vectors']  # Shape: (frames, connections, 3)\n",
    "        \n",
    "        # Flatten the first dimension (frames)\n",
    "        flat_vectors = dir_vectors.reshape(-1, dir_vectors.shape[1], dir_vectors.shape[2])\n",
    "        all_vectors.append(flat_vectors)\n",
    "    \n",
    "    # Concatenate all vectors\n",
    "    all_vectors = np.concatenate(all_vectors, axis=0)\n",
    "    \n",
    "    # Compute mean\n",
    "    mean_dir_vec = np.mean(all_vectors, axis=0)\n",
    "    \n",
    "    # Reshape to match the format expected by the model\n",
    "    mean_dir_vec_flat = mean_dir_vec.reshape(-1)\n",
    "    \n",
    "    print(f\"Mean direction vector shape: {mean_dir_vec.shape}\")\n",
    "    print(f\"Flattened mean direction vector shape: {mean_dir_vec_flat.shape}\")\n",
    "    \n",
    "    return mean_dir_vec_flat"
   ]
  }
 ],
 "metadata": {
  "kernelspec": {
   "display_name": "p37",
   "language": "python",
   "name": "python3"
  },
  "language_info": {
   "name": "python",
   "version": "3.7.12"
  }
 },
 "nbformat": 4,
 "nbformat_minor": 2
}
